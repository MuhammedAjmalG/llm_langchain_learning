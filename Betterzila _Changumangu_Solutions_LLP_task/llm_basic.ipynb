{
 "cells": [
  {
   "cell_type": "markdown",
   "metadata": {},
   "source": [
    "# let's install necessary libraies"
   ]
  },
  {
   "cell_type": "code",
   "execution_count": null,
   "metadata": {},
   "outputs": [],
   "source": [
    "!pip install langchain pypdf sentence-transformers faiss-cpu"
   ]
  },
  {
   "cell_type": "markdown",
   "metadata": {},
   "source": [
    "# let's extract all the contents from the pdf:\n",
    "- The link to the pdf (https://pgcag.files.wordpress.com/2010/01/48lawsofpower.pdf)."
   ]
  },
  {
   "cell_type": "code",
   "execution_count": 2,
   "metadata": {},
   "outputs": [],
   "source": [
    "from langchain.document_loaders import PyPDFLoader\n",
    "\n",
    "loader = PyPDFLoader(\"pgcag_file.pdf\")\n",
    "full_texts_from_pdf = loader.load_and_split()\n"
   ]
  },
  {
   "cell_type": "code",
   "execution_count": 4,
   "metadata": {},
   "outputs": [
    {
     "data": {
      "text/plain": [
       "Document(page_content='The 48 Laws Of Power \\n \\n \\n \\n \\nBy  \\nRobert Greene \\n \\n \\n \\n \\nPenguin Books 2000 \\nHardcover Edition ISBN 0-670-88146-5 \\nPaperback Edition ISBN 0 14 02.8019 7 \\n452 pages \\n \\n \\nWISDOM IN A NUTSHELL', metadata={'source': 'E:\\\\llm_langchai_learning\\\\Betterzila _Changumangu_Solutions_LLP_task\\\\pgcag_file.pdf', 'page': 0})"
      ]
     },
     "execution_count": 4,
     "metadata": {},
     "output_type": "execute_result"
    }
   ],
   "source": [
    "full_texts_from_pdf[0]"
   ]
  },
  {
   "cell_type": "code",
   "execution_count": 24,
   "metadata": {},
   "outputs": [
    {
     "data": {
      "text/plain": [
       "17"
      ]
     },
     "execution_count": 24,
     "metadata": {},
     "output_type": "execute_result"
    }
   ],
   "source": [
    "len(full_texts_from_pdf)"
   ]
  },
  {
   "cell_type": "markdown",
   "metadata": {},
   "source": [
    "# let's convert the full text into small chunks"
   ]
  },
  {
   "cell_type": "code",
   "execution_count": 5,
   "metadata": {},
   "outputs": [],
   "source": [
    "from langchain.text_splitter import RecursiveCharacterTextSplitter\n",
    "spliter = RecursiveCharacterTextSplitter(\n",
    "    separators=[\"\\n\\n\",\"\\n\",\".\"],\n",
    "    chunk_size = 600,\n",
    "    chunk_overlap = 80,\n",
    "    length_function =len,\n",
    ")\n",
    "chunks = spliter.split_documents(full_texts_from_pdf)"
   ]
  },
  {
   "cell_type": "code",
   "execution_count": 6,
   "metadata": {},
   "outputs": [
    {
     "data": {
      "text/plain": [
       "Document(page_content='The 48 Laws Of Power \\n \\n \\n \\n \\nBy  \\nRobert Greene \\n \\n \\n \\n \\nPenguin Books 2000 \\nHardcover Edition ISBN 0-670-88146-5 \\nPaperback Edition ISBN 0 14 02.8019 7 \\n452 pages \\n \\n \\nWISDOM IN A NUTSHELL', metadata={'source': 'E:\\\\llm_langchai_learning\\\\Betterzila _Changumangu_Solutions_LLP_task\\\\pgcag_file.pdf', 'page': 0})"
      ]
     },
     "execution_count": 6,
     "metadata": {},
     "output_type": "execute_result"
    }
   ],
   "source": [
    "chunks[0]"
   ]
  },
  {
   "cell_type": "markdown",
   "metadata": {},
   "source": [
    "# let's initialize the embedding method\n",
    "- here we are using HuggingFaceInferenceAPIEmbeddings.\n",
    "- model = all-MiniLM-l6-v2"
   ]
  },
  {
   "cell_type": "code",
   "execution_count": 7,
   "metadata": {},
   "outputs": [],
   "source": [
    "from langchain.embeddings import HuggingFaceInferenceAPIEmbeddings\n",
    "\n",
    "embed = HuggingFaceInferenceAPIEmbeddings(\n",
    "    api_key='paste your hugging face api key',\n",
    "    model_name=\"sentence-transformers/all-MiniLM-l6-v2\")"
   ]
  },
  {
   "cell_type": "markdown",
   "metadata": {},
   "source": [
    "# let's store the embeddings in vectore data base\n",
    "- here we are using faiss"
   ]
  },
  {
   "cell_type": "code",
   "execution_count": 8,
   "metadata": {},
   "outputs": [],
   "source": [
    "from langchain.vectorstores import FAISS\n",
    "vectorindex = FAISS.from_documents(chunks, embed)"
   ]
  },
  {
   "cell_type": "markdown",
   "metadata": {},
   "source": [
    "# let's save the data base so we can directly use it locally and build an streamlit application"
   ]
  },
  {
   "cell_type": "code",
   "execution_count": 3,
   "metadata": {},
   "outputs": [],
   "source": [
    "import pickle\n",
    "file_path = \"vector_index_file.pkl\""
   ]
  },
  {
   "cell_type": "markdown",
   "metadata": {},
   "source": [
    "# now let's load the data from vector base and build the retriever."
   ]
  },
  {
   "cell_type": "code",
   "execution_count": 4,
   "metadata": {},
   "outputs": [],
   "source": [
    "with open(file_path, \"rb\") as index_file:\n",
    "  loaded_vector_index = pickle.load(index_file)"
   ]
  },
  {
   "cell_type": "code",
   "execution_count": 5,
   "metadata": {},
   "outputs": [],
   "source": [
    "retriever = loaded_vector_index.as_retriever(score_threshold = 0.7)"
   ]
  },
  {
   "cell_type": "code",
   "execution_count": 6,
   "metadata": {},
   "outputs": [
    {
     "data": {
      "text/plain": [
       "[Document(page_content='plot their revenge. \\n• Banish enemies or plot for the best time to render them harmless. \\n• Leave your enemies no options. \\n• Sometimes enemies will destroy themselves.  \\n• Thoughts of reconciliation will open you up to attack. \\n \\n \\n \\n16. USE ABSENCE TO INCRE ASE RESPECT AND HONOR. \\n• Observance of the Law', metadata={'source': 'temp_uploaded_file.pdf', 'page': 7}),\n",
       " Document(page_content='best friend Michael III murdered. \\n \\n \\n \\n• Observance of the Law \\nEmperor Sung of China in 959 A.D. was able to turn all his enemies into loyal friends. \\nHe persuaded his generals to retire to a life of nobility and give up their dreams of', metadata={'source': 'temp_uploaded_file.pdf', 'page': 1}),\n",
       " Document(page_content='he devised a clever last resort plan. Lia ng donned a Taoist robe and played the lute \\nupon the wall of the city he was defending. His soldiers opened the gates and hid. \\nWhen Sima Yi’s troops advanced upon t he unguarded city, Yi recognized his \\nopponent sitting alone upon the wall. Fearing a trap, Sima Yi called his soldiers to \\nretreat. \\n \\nP.T. Barnum was an expert at destroying his competitor’s reputation. He published \\nletters in newspapers, warning the public  against buying his opponent’s stock. He \\nwas a master at poking mockery at the tactics of his rivals. \\n \\nWisdom in a nutshell:', metadata={'source': 'temp_uploaded_file.pdf', 'page': 3}),\n",
       " Document(page_content='The 48 Laws Of Power  Page 3 \\nwww.bizsum.com\\n © 2001, 2002 Copyright Busi nessSummaries.com \\ngrabbing his throne one day. He spared those who conspired against him, and was \\nable to win over enemies with his generosity.  \\n \\nWisdom in a nutshell: \\n• Do not rely on friends. They will never be totally honest with you. They will not \\nopenly disagree with you in order to avoid arguments. \\n• Enemies expect nothing so they w ill be surprised when you are generous. \\n• An enemy spared the guillotine will be more grateful to you than a friend.', metadata={'source': 'temp_uploaded_file.pdf', 'page': 2})]"
      ]
     },
     "execution_count": 6,
     "metadata": {},
     "output_type": "execute_result"
    }
   ],
   "source": [
    "rdocs = retriever.get_relevant_documents(\"Can you give me an example from history where the enemy was crushed totally from the book\")\n",
    "rdocs\n"
   ]
  },
  {
   "cell_type": "markdown",
   "metadata": {},
   "source": [
    "# let's initialize google palm model"
   ]
  },
  {
   "cell_type": "code",
   "execution_count": 7,
   "metadata": {},
   "outputs": [
    {
     "name": "stderr",
     "output_type": "stream",
     "text": [
      "e:\\llm_langchai_learning\\llm_env\\lib\\site-packages\\tqdm\\auto.py:21: TqdmWarning: IProgress not found. Please update jupyter and ipywidgets. See https://ipywidgets.readthedocs.io/en/stable/user_install.html\n",
      "  from .autonotebook import tqdm as notebook_tqdm\n"
     ]
    },
    {
     "data": {
      "text/plain": [
       "'Rahul Gandhi,\\nA man of hope and change,\\nFighting for the people,\\nLeading India to a better future.'"
      ]
     },
     "execution_count": 7,
     "metadata": {},
     "output_type": "execute_result"
    }
   ],
   "source": [
    "from langchain.llms import GooglePalm\n",
    "\n",
    "llm = GooglePalm(google_api_key='paste your api key',temperature=0.4, max_tokens=200)\n",
    "llm.invoke(\"write a 4 line poem on Rahul gandhi?\")"
   ]
  },
  {
   "cell_type": "markdown",
   "metadata": {},
   "source": [
    "# now let's write a template and combine all together with chain"
   ]
  },
  {
   "cell_type": "code",
   "execution_count": 27,
   "metadata": {},
   "outputs": [],
   "source": [
    "from langchain.prompts import PromptTemplate\n",
    "\n",
    "prompt_template = \"\"\"Please generate an answer by extracting relevant information from the provided context.\n",
    "Aim to include as much text as possible from the \"response\" section in the source document context without making significant changes.\n",
    "If the information is not available then respond  \"I don't know.\" don't make it your own answers\n",
    "\n",
    "CONTEXT: {context}\n",
    "\n",
    "QUESTION: {question}\"\"\"\n",
    "\n",
    "\n",
    "PROMPT = PromptTemplate(\n",
    "    template=prompt_template, input_variables=[\"context\", \"question\"]\n",
    ")\n",
    "chain_type_kwargs = {\"prompt\": PROMPT}\n",
    "\n",
    "\n",
    "from langchain.chains import RetrievalQA\n",
    "\n",
    "chain = RetrievalQA.from_chain_type(llm=llm,\n",
    "                            chain_type=\"stuff\",\n",
    "                            retriever=retriever,\n",
    "                            input_key=\"query\",\n",
    "                            return_source_documents=True,\n",
    "                            chain_type_kwargs=chain_type_kwargs)"
   ]
  },
  {
   "cell_type": "code",
   "execution_count": 9,
   "metadata": {},
   "outputs": [],
   "source": [
    "import langchain\n",
    "langchain.debug = True"
   ]
  },
  {
   "cell_type": "markdown",
   "metadata": {},
   "source": [
    "# Now let's ask one question from the pdf"
   ]
  },
  {
   "cell_type": "code",
   "execution_count": 28,
   "metadata": {},
   "outputs": [
    {
     "name": "stdout",
     "output_type": "stream",
     "text": [
      "\u001b[32;1m\u001b[1;3m[chain/start]\u001b[0m \u001b[1m[1:chain:RetrievalQA] Entering Chain run with input:\n",
      "\u001b[0m{\n",
      "  \"query\": \"who is narendra modi?\"\n",
      "}\n",
      "\u001b[32;1m\u001b[1;3m[chain/start]\u001b[0m \u001b[1m[1:chain:RetrievalQA > 3:chain:StuffDocumentsChain] Entering Chain run with input:\n",
      "\u001b[0m[inputs]\n",
      "\u001b[32;1m\u001b[1;3m[chain/start]\u001b[0m \u001b[1m[1:chain:RetrievalQA > 3:chain:StuffDocumentsChain > 4:chain:LLMChain] Entering Chain run with input:\n",
      "\u001b[0m{\n",
      "  \"question\": \"who is narendra modi?\",\n",
      "  \"context\": \"was extensive. He was so invo lved in so many areas of th e political structure that to \\nremove him would lead to chaos. The intens ive form of power provides more freedom \\nthan the extensive. \\n \\nMachiavelli said it is better to be feared than loved. Fear can be controlled; love, never. \\n \\nWisdom in a nutshell: \\n• Be the only one who can do what you do. Make the fate of those who hire you so \\nentwined with yours they cannot  possibly get rid of you. \\n• If you are ambitious, it is wiser to seek out weak masters with whom you can \\ncreate a relationship of dependency.\\n\\nbooks and lectures on the language, culture and history of the island of Formosa (now \\nTaiwan).  After his death, it was revealed t hat he was in fact a Frenchman with a rich \\nimagination who played on the British need for the exotic and strange. He had invented \\neverything he had professed to be an expert on, having capitalized on it with best-selling \\nbooks and having been a favorite guest at many royal dinners. \\n \\nAbraham Lincoln created an image of himself as the homespun country lawyer with a \\nbeard. He played to the fantasy of the common man’s president. \\n \\nWisdom in a nutshell:\\n\\nJaviac. The first time he drove his lover wild with grief, the second time she became \\nangry and cut him off. When he wr ote her begging to be let back into her favor, she \\nallowed him back only on the condition he do penance for his cruelty. \\n \\nWith business, an early retirement at the hei ght of your career will keep people holding \\nyou in high regard, and waiting to see you make a comeback. \\n \\nWisdom in a nutshell: \\n• Create value through scarcity. Make y ourself less accessible; otherwise the aura \\nyou have created around y ourself will wear away.\\n\\neven sent anonymous letters to keep his name in the limelight. \\n \\nMargaretha Zelle was able to use this law to make a name for herself as the \\nmysterious exotic dancer Mata Hari. It was rumored she was from India and danced \\nin private parties, in an Eastern manner never before seen in Europe. She would \\nslowly discard her veils and sarongs for the most prominent people in Paris who \\ncame to see her. Many years later it w ould be discovered she was just a native of \\nHolland and had worked for the Germans as a spy. \\n \\nWisdom in a nutshell:\"\n",
      "}\n",
      "\u001b[32;1m\u001b[1;3m[llm/start]\u001b[0m \u001b[1m[1:chain:RetrievalQA > 3:chain:StuffDocumentsChain > 4:chain:LLMChain > 5:llm:GooglePalm] Entering LLM run with input:\n",
      "\u001b[0m{\n",
      "  \"prompts\": [\n",
      "    \"Please generate an answer by extracting relevant information from the provided context.\\nAim to include as much text as possible from the \\\"response\\\" section in the source document context without making significant changes.\\nIf the information is not available then respond  \\\"I don't know.\\\" don't make it your own answers\\n\\nCONTEXT: was extensive. He was so invo lved in so many areas of th e political structure that to \\nremove him would lead to chaos. The intens ive form of power provides more freedom \\nthan the extensive. \\n \\nMachiavelli said it is better to be feared than loved. Fear can be controlled; love, never. \\n \\nWisdom in a nutshell: \\n• Be the only one who can do what you do. Make the fate of those who hire you so \\nentwined with yours they cannot  possibly get rid of you. \\n• If you are ambitious, it is wiser to seek out weak masters with whom you can \\ncreate a relationship of dependency.\\n\\nbooks and lectures on the language, culture and history of the island of Formosa (now \\nTaiwan).  After his death, it was revealed t hat he was in fact a Frenchman with a rich \\nimagination who played on the British need for the exotic and strange. He had invented \\neverything he had professed to be an expert on, having capitalized on it with best-selling \\nbooks and having been a favorite guest at many royal dinners. \\n \\nAbraham Lincoln created an image of himself as the homespun country lawyer with a \\nbeard. He played to the fantasy of the common man’s president. \\n \\nWisdom in a nutshell:\\n\\nJaviac. The first time he drove his lover wild with grief, the second time she became \\nangry and cut him off. When he wr ote her begging to be let back into her favor, she \\nallowed him back only on the condition he do penance for his cruelty. \\n \\nWith business, an early retirement at the hei ght of your career will keep people holding \\nyou in high regard, and waiting to see you make a comeback. \\n \\nWisdom in a nutshell: \\n• Create value through scarcity. Make y ourself less accessible; otherwise the aura \\nyou have created around y ourself will wear away.\\n\\neven sent anonymous letters to keep his name in the limelight. \\n \\nMargaretha Zelle was able to use this law to make a name for herself as the \\nmysterious exotic dancer Mata Hari. It was rumored she was from India and danced \\nin private parties, in an Eastern manner never before seen in Europe. She would \\nslowly discard her veils and sarongs for the most prominent people in Paris who \\ncame to see her. Many years later it w ould be discovered she was just a native of \\nHolland and had worked for the Germans as a spy. \\n \\nWisdom in a nutshell:\\n\\nQUESTION: who is narendra modi?\"\n",
      "  ]\n",
      "}\n",
      "\u001b[36;1m\u001b[1;3m[llm/end]\u001b[0m \u001b[1m[1:chain:RetrievalQA > 3:chain:StuffDocumentsChain > 4:chain:LLMChain > 5:llm:GooglePalm] [2.56s] Exiting LLM run with output:\n",
      "\u001b[0m{\n",
      "  \"generations\": [\n",
      "    [\n",
      "      {\n",
      "        \"text\": \"I don't know.\",\n",
      "        \"generation_info\": null,\n",
      "        \"type\": \"Generation\"\n",
      "      }\n",
      "    ]\n",
      "  ],\n",
      "  \"llm_output\": null,\n",
      "  \"run\": null\n",
      "}\n",
      "\u001b[36;1m\u001b[1;3m[chain/end]\u001b[0m \u001b[1m[1:chain:RetrievalQA > 3:chain:StuffDocumentsChain > 4:chain:LLMChain] [2.58s] Exiting Chain run with output:\n",
      "\u001b[0m{\n",
      "  \"text\": \"I don't know.\"\n",
      "}\n",
      "\u001b[36;1m\u001b[1;3m[chain/end]\u001b[0m \u001b[1m[1:chain:RetrievalQA > 3:chain:StuffDocumentsChain] [2.60s] Exiting Chain run with output:\n",
      "\u001b[0m{\n",
      "  \"output_text\": \"I don't know.\"\n",
      "}\n",
      "\u001b[36;1m\u001b[1;3m[chain/end]\u001b[0m \u001b[1m[1:chain:RetrievalQA] [3.51s] Exiting Chain run with output:\n",
      "\u001b[0m[outputs]\n"
     ]
    }
   ],
   "source": [
    "query = \"who is narendra modi?\"\n",
    "response = chain(query)"
   ]
  },
  {
   "cell_type": "code",
   "execution_count": 21,
   "metadata": {},
   "outputs": [
    {
     "data": {
      "text/plain": [
       "{'query': 'who is narendra modi?',\n",
       " 'result': \"I don't know.\",\n",
       " 'source_documents': [Document(page_content='was extensive. He was so invo lved in so many areas of th e political structure that to \\nremove him would lead to chaos. The intens ive form of power provides more freedom \\nthan the extensive. \\n \\nMachiavelli said it is better to be feared than loved. Fear can be controlled; love, never. \\n \\nWisdom in a nutshell: \\n• Be the only one who can do what you do. Make the fate of those who hire you so \\nentwined with yours they cannot  possibly get rid of you. \\n• If you are ambitious, it is wiser to seek out weak masters with whom you can \\ncreate a relationship of dependency.', metadata={'source': 'temp_uploaded_file.pdf', 'page': 6}),\n",
       "  Document(page_content='books and lectures on the language, culture and history of the island of Formosa (now \\nTaiwan).  After his death, it was revealed t hat he was in fact a Frenchman with a rich \\nimagination who played on the British need for the exotic and strange. He had invented \\neverything he had professed to be an expert on, having capitalized on it with best-selling \\nbooks and having been a favorite guest at many royal dinners. \\n \\nAbraham Lincoln created an image of himself as the homespun country lawyer with a \\nbeard. He played to the fantasy of the common man’s president. \\n \\nWisdom in a nutshell:', metadata={'source': 'temp_uploaded_file.pdf', 'page': 13}),\n",
       "  Document(page_content='Javiac. The first time he drove his lover wild with grief, the second time she became \\nangry and cut him off. When he wr ote her begging to be let back into her favor, she \\nallowed him back only on the condition he do penance for his cruelty. \\n \\nWith business, an early retirement at the hei ght of your career will keep people holding \\nyou in high regard, and waiting to see you make a comeback. \\n \\nWisdom in a nutshell: \\n• Create value through scarcity. Make y ourself less accessible; otherwise the aura \\nyou have created around y ourself will wear away.', metadata={'source': 'temp_uploaded_file.pdf', 'page': 8}),\n",
       "  Document(page_content='even sent anonymous letters to keep his name in the limelight. \\n \\nMargaretha Zelle was able to use this law to make a name for herself as the \\nmysterious exotic dancer Mata Hari. It was rumored she was from India and danced \\nin private parties, in an Eastern manner never before seen in Europe. She would \\nslowly discard her veils and sarongs for the most prominent people in Paris who \\ncame to see her. Many years later it w ould be discovered she was just a native of \\nHolland and had worked for the Germans as a spy. \\n \\nWisdom in a nutshell:', metadata={'source': 'temp_uploaded_file.pdf', 'page': 4})]}"
      ]
     },
     "execution_count": 21,
     "metadata": {},
     "output_type": "execute_result"
    }
   ],
   "source": [
    "response"
   ]
  },
  {
   "cell_type": "code",
   "execution_count": 34,
   "metadata": {},
   "outputs": [
    {
     "name": "stdout",
     "output_type": "stream",
     "text": [
      "\u001b[32;1m\u001b[1;3m[chain/start]\u001b[0m \u001b[1m[1:chain:RetrievalQA] Entering Chain run with input:\n",
      "\u001b[0m{\n",
      "  \"query\": \"what is earth?\"\n",
      "}\n",
      "\u001b[32;1m\u001b[1;3m[chain/start]\u001b[0m \u001b[1m[1:chain:RetrievalQA > 3:chain:StuffDocumentsChain] Entering Chain run with input:\n",
      "\u001b[0m[inputs]\n",
      "\u001b[32;1m\u001b[1;3m[chain/start]\u001b[0m \u001b[1m[1:chain:RetrievalQA > 3:chain:StuffDocumentsChain > 4:chain:LLMChain] Entering Chain run with input:\n",
      "\u001b[0m{\n",
      "  \"question\": \"what is earth?\",\n",
      "  \"context\": \"• Fit the spirit of the times. \\n• Be a source of pleasure. \\n \\n25. RE-CREATE YOURSELF. \\nObservance of the Law\\n\\nmessages.\\n \\n• People are always impressed by the superf icial appearance of things, the grand, and \\nthe spectacular, what is larger than life. \\n \\n38. THINK AS YOU LIKE BUT BEHAVE LIKE OTHERS. \\nWisdom in a nutshell: \\n• \\nWise and clever people learn early on that they can display conventional behavior \\nand mouth conventional ideas without having to believe in them.\\n \\n• \\nPut on the mask appropriate to the group you are joining.\\n \\n \\n39. STIR UP WATERS TO CATCH FISH. \\nWisdom in a nutshell: \\n• \\nAnger and emotion are strategically unproduct ive. Make your enemies angry but stay \\ncalm yourself.\\n\\nceremony, he artfully laid cushions in the snow on each stepping-stone to his house. In \\nthe morning, he removed the cushions reveali ng the pattern of the stepping-stones like a \\nperfect mold within the snow. This was just one of Rikyu’s clever aesthetic tricks which \\nimpressed the Emperor, never calling attention to the work gone into it, but implying a \\npolite gesture in itself. \\n \\nWisdom in a nutshell: \\n• What imitates nature by appearing effo rtless and natural approximates nature’s \\npower.  \\n• Never show your work until it is finished.  When people see the effort and time it takes\\n\\n• \\nUse money as a way to give pleasure to others and win them over.\\n \\n \\n41. AVOID STEPPING INTO A GREAT MAN’S SHOES. \\nWisdom in a nutshell: \\n• \\nChoose a different path and personal style if  you are the daughter or son of a great \\nperson. You will forever be in your pred ecessor’s shadow unless you find a way to \\nshine on your own.\\n \\n• \\nOnly after the father figure has been done aw ay with will there be space to establish \\na new order.\\n \\n• \\nDo not become complacent once you reac h success and security. Prosperity makes\"\n",
      "}\n",
      "\u001b[32;1m\u001b[1;3m[llm/start]\u001b[0m \u001b[1m[1:chain:RetrievalQA > 3:chain:StuffDocumentsChain > 4:chain:LLMChain > 5:llm:GooglePalm] Entering LLM run with input:\n",
      "\u001b[0m{\n",
      "  \"prompts\": [\n",
      "    \"Please generate an answer by extracting relevant information from the provided context.\\nAim to include as much text as possible from the \\\"response\\\" section in the source document context without making significant changes.\\nIf the information is not available then respond  \\\"I don't know.\\\" don't make it your own answers\\n\\nCONTEXT: • Fit the spirit of the times. \\n• Be a source of pleasure. \\n \\n25. RE-CREATE YOURSELF. \\nObservance of the Law\\n\\nmessages.\\n \\n• People are always impressed by the superf icial appearance of things, the grand, and \\nthe spectacular, what is larger than life. \\n \\n38. THINK AS YOU LIKE BUT BEHAVE LIKE OTHERS. \\nWisdom in a nutshell: \\n• \\nWise and clever people learn early on that they can display conventional behavior \\nand mouth conventional ideas without having to believe in them.\\n \\n• \\nPut on the mask appropriate to the group you are joining.\\n \\n \\n39. STIR UP WATERS TO CATCH FISH. \\nWisdom in a nutshell: \\n• \\nAnger and emotion are strategically unproduct ive. Make your enemies angry but stay \\ncalm yourself.\\n\\nceremony, he artfully laid cushions in the snow on each stepping-stone to his house. In \\nthe morning, he removed the cushions reveali ng the pattern of the stepping-stones like a \\nperfect mold within the snow. This was just one of Rikyu’s clever aesthetic tricks which \\nimpressed the Emperor, never calling attention to the work gone into it, but implying a \\npolite gesture in itself. \\n \\nWisdom in a nutshell: \\n• What imitates nature by appearing effo rtless and natural approximates nature’s \\npower.  \\n• Never show your work until it is finished.  When people see the effort and time it takes\\n\\n• \\nUse money as a way to give pleasure to others and win them over.\\n \\n \\n41. AVOID STEPPING INTO A GREAT MAN’S SHOES. \\nWisdom in a nutshell: \\n• \\nChoose a different path and personal style if  you are the daughter or son of a great \\nperson. You will forever be in your pred ecessor’s shadow unless you find a way to \\nshine on your own.\\n \\n• \\nOnly after the father figure has been done aw ay with will there be space to establish \\na new order.\\n \\n• \\nDo not become complacent once you reac h success and security. Prosperity makes\\n\\nQUESTION: what is earth?\"\n",
      "  ]\n",
      "}\n",
      "\u001b[36;1m\u001b[1;3m[llm/end]\u001b[0m \u001b[1m[1:chain:RetrievalQA > 3:chain:StuffDocumentsChain > 4:chain:LLMChain > 5:llm:GooglePalm] [21.64s] Exiting LLM run with output:\n",
      "\u001b[0m{\n",
      "  \"generations\": [\n",
      "    [\n",
      "      {\n",
      "        \"text\": \"Earth is the third planet from the Sun and the only astronomical object known to harbor life.\",\n",
      "        \"generation_info\": null,\n",
      "        \"type\": \"Generation\"\n",
      "      }\n",
      "    ]\n",
      "  ],\n",
      "  \"llm_output\": null,\n",
      "  \"run\": null\n",
      "}\n",
      "\u001b[36;1m\u001b[1;3m[chain/end]\u001b[0m \u001b[1m[1:chain:RetrievalQA > 3:chain:StuffDocumentsChain > 4:chain:LLMChain] [21.66s] Exiting Chain run with output:\n",
      "\u001b[0m{\n",
      "  \"text\": \"Earth is the third planet from the Sun and the only astronomical object known to harbor life.\"\n",
      "}\n",
      "\u001b[36;1m\u001b[1;3m[chain/end]\u001b[0m \u001b[1m[1:chain:RetrievalQA > 3:chain:StuffDocumentsChain] [21.66s] Exiting Chain run with output:\n",
      "\u001b[0m{\n",
      "  \"output_text\": \"Earth is the third planet from the Sun and the only astronomical object known to harbor life.\"\n",
      "}\n",
      "\u001b[36;1m\u001b[1;3m[chain/end]\u001b[0m \u001b[1m[1:chain:RetrievalQA] [22.68s] Exiting Chain run with output:\n",
      "\u001b[0m[outputs]\n"
     ]
    }
   ],
   "source": [
    "query = \"what is earth?\"\n",
    "response = chain(query)"
   ]
  },
  {
   "cell_type": "code",
   "execution_count": 33,
   "metadata": {},
   "outputs": [
    {
     "name": "stdout",
     "output_type": "stream",
     "text": [
      "\u001b[32;1m\u001b[1;3m[chain/start]\u001b[0m \u001b[1m[1:chain:RetrievalQA] Entering Chain run with input:\n",
      "\u001b[0m{\n",
      "  \"query\": \"What's the point of making myself less accessible?\"\n",
      "}\n",
      "\u001b[32;1m\u001b[1;3m[chain/start]\u001b[0m \u001b[1m[1:chain:RetrievalQA > 3:chain:StuffDocumentsChain] Entering Chain run with input:\n",
      "\u001b[0m[inputs]\n",
      "\u001b[32;1m\u001b[1;3m[chain/start]\u001b[0m \u001b[1m[1:chain:RetrievalQA > 3:chain:StuffDocumentsChain > 4:chain:LLMChain] Entering Chain run with input:\n",
      "\u001b[0m{\n",
      "  \"question\": \"What's the point of making myself less accessible?\",\n",
      "  \"context\": \"isolation. \\n \\nWisdom in a nutshell: \\n• A fortress may be impregnable, but ever yone knows you are there and it may easily \\nturn into a prison.  \\n• Power depends on social interaction and circulation.  \\n• Isolation is deadly for the creative arts. Shakespeare was always producing plays for \\nthe masses. He was in constant touch with reality and what people wanted.  \\n• Mobility and social contact protects you from plotters.  \\n \\n19. KNOW WHO YOU’RE DEALING WITH – DO NOT OFFEND THE \\nWRONG PERSON. \\n• Transgression of the Law\\n\\nshow, the more superior you seem. \\n• Remember: You choose to let things bother you. You can just as easily choose to \\nconsider the matter trivial and unworthy of your interest. That is the powerful move. \\n• If it is impossible to ignore, then secretly get  rid of it. Sometimes threats just go away by \\nthemselves. \\n \\n37. CREATE COMPELLING SPECTACLES. \\nWisdom in a nutshell: \\n• \\nNever neglect the way you arrange things visually.\\n \\n• \\nAssociate yourself with colors, images and symbols that communicate strong \\nmessages.\\n\\nISOLATION IS DANGEROUS. \\n• Observance of the Law \\nKing Louis XIV recognized the importance of always keeping his eyes and ears on \\neveryone and everything around him. He built a palace in Versailles where all the nobility \\ncould keep apartments near to his. He knew that if he were to isolate himself for one \\nmoment, conspiracies would rise behind his ba ck. The daily activities all revolved around \\nthe king, leaving no one unnoticed, hundreds of visitors and attendants were always \\npresent. There was not very much privacy for the king and he preferred this life to one of \\nisolation.\\n\\nbecause you are ungraspable.  \\n• As your reputation for independence grows, more people will desire you and want to \\nconquer you.  \\n• Politely decline. You cannot allow y ourself to feel obligated to anyone.  \\n• Seek promises from both sides, so no matte r what the outcome of an election or \\nbattle, your position is secure.  \\n• Observe quarreling parties and stay neutra l but supportive to both sides. Gain power \\nas a mediator.  \\n• You may commit to one to prove you are capable of attachment, but be emotionally\"\n",
      "}\n",
      "\u001b[32;1m\u001b[1;3m[llm/start]\u001b[0m \u001b[1m[1:chain:RetrievalQA > 3:chain:StuffDocumentsChain > 4:chain:LLMChain > 5:llm:GooglePalm] Entering LLM run with input:\n",
      "\u001b[0m{\n",
      "  \"prompts\": [\n",
      "    \"Please generate an answer by extracting relevant information from the provided context.\\nAim to include as much text as possible from the \\\"response\\\" section in the source document context without making significant changes.\\nIf the information is not available then respond  \\\"I don't know.\\\" don't make it your own answers\\n\\nCONTEXT: isolation. \\n \\nWisdom in a nutshell: \\n• A fortress may be impregnable, but ever yone knows you are there and it may easily \\nturn into a prison.  \\n• Power depends on social interaction and circulation.  \\n• Isolation is deadly for the creative arts. Shakespeare was always producing plays for \\nthe masses. He was in constant touch with reality and what people wanted.  \\n• Mobility and social contact protects you from plotters.  \\n \\n19. KNOW WHO YOU’RE DEALING WITH – DO NOT OFFEND THE \\nWRONG PERSON. \\n• Transgression of the Law\\n\\nshow, the more superior you seem. \\n• Remember: You choose to let things bother you. You can just as easily choose to \\nconsider the matter trivial and unworthy of your interest. That is the powerful move. \\n• If it is impossible to ignore, then secretly get  rid of it. Sometimes threats just go away by \\nthemselves. \\n \\n37. CREATE COMPELLING SPECTACLES. \\nWisdom in a nutshell: \\n• \\nNever neglect the way you arrange things visually.\\n \\n• \\nAssociate yourself with colors, images and symbols that communicate strong \\nmessages.\\n\\nISOLATION IS DANGEROUS. \\n• Observance of the Law \\nKing Louis XIV recognized the importance of always keeping his eyes and ears on \\neveryone and everything around him. He built a palace in Versailles where all the nobility \\ncould keep apartments near to his. He knew that if he were to isolate himself for one \\nmoment, conspiracies would rise behind his ba ck. The daily activities all revolved around \\nthe king, leaving no one unnoticed, hundreds of visitors and attendants were always \\npresent. There was not very much privacy for the king and he preferred this life to one of \\nisolation.\\n\\nbecause you are ungraspable.  \\n• As your reputation for independence grows, more people will desire you and want to \\nconquer you.  \\n• Politely decline. You cannot allow y ourself to feel obligated to anyone.  \\n• Seek promises from both sides, so no matte r what the outcome of an election or \\nbattle, your position is secure.  \\n• Observe quarreling parties and stay neutra l but supportive to both sides. Gain power \\nas a mediator.  \\n• You may commit to one to prove you are capable of attachment, but be emotionally\\n\\nQUESTION: What's the point of making myself less accessible?\"\n",
      "  ]\n",
      "}\n",
      "\u001b[36;1m\u001b[1;3m[llm/end]\u001b[0m \u001b[1m[1:chain:RetrievalQA > 3:chain:StuffDocumentsChain > 4:chain:LLMChain > 5:llm:GooglePalm] [1.39s] Exiting LLM run with output:\n",
      "\u001b[0m{\n",
      "  \"generations\": [\n",
      "    [\n",
      "      {\n",
      "        \"text\": \"Making yourself less accessible makes you ungraspable, which will make more people desire you and want to conquer you.\",\n",
      "        \"generation_info\": null,\n",
      "        \"type\": \"Generation\"\n",
      "      }\n",
      "    ]\n",
      "  ],\n",
      "  \"llm_output\": null,\n",
      "  \"run\": null\n",
      "}\n",
      "\u001b[36;1m\u001b[1;3m[chain/end]\u001b[0m \u001b[1m[1:chain:RetrievalQA > 3:chain:StuffDocumentsChain > 4:chain:LLMChain] [1.40s] Exiting Chain run with output:\n",
      "\u001b[0m{\n",
      "  \"text\": \"Making yourself less accessible makes you ungraspable, which will make more people desire you and want to conquer you.\"\n",
      "}\n",
      "\u001b[36;1m\u001b[1;3m[chain/end]\u001b[0m \u001b[1m[1:chain:RetrievalQA > 3:chain:StuffDocumentsChain] [1.40s] Exiting Chain run with output:\n",
      "\u001b[0m{\n",
      "  \"output_text\": \"Making yourself less accessible makes you ungraspable, which will make more people desire you and want to conquer you.\"\n",
      "}\n",
      "\u001b[36;1m\u001b[1;3m[chain/end]\u001b[0m \u001b[1m[1:chain:RetrievalQA] [2.38s] Exiting Chain run with output:\n",
      "\u001b[0m[outputs]\n"
     ]
    }
   ],
   "source": [
    "query = \"What's the point of making myself less accessible?\"\n",
    "response = chain(query)"
   ]
  }
 ],
 "metadata": {
  "kernelspec": {
   "display_name": "llm_env",
   "language": "python",
   "name": "python3"
  },
  "language_info": {
   "codemirror_mode": {
    "name": "ipython",
    "version": 3
   },
   "file_extension": ".py",
   "mimetype": "text/x-python",
   "name": "python",
   "nbconvert_exporter": "python",
   "pygments_lexer": "ipython3",
   "version": "3.9.13"
  }
 },
 "nbformat": 4,
 "nbformat_minor": 2
}
